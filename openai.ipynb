{
 "cells": [
  {
   "attachments": {},
   "cell_type": "markdown",
   "metadata": {},
   "source": [
    "# Using the OpenAI API to detect fake news"
   ]
  },
  {
   "cell_type": "code",
   "execution_count": 152,
   "metadata": {},
   "outputs": [],
   "source": [
    "import os\n",
    "from sklearn.metrics import accuracy_score, confusion_matrix, precision_score, recall_score, ConfusionMatrixDisplay\n",
    "import csv\n",
    "from dotenv import load_dotenv\n",
    "import openai\n",
    "from transformers import GPT2TokenizerFast\n",
    "import numpy as np\n",
    "from collections import defaultdict\n",
    "import pandas as pd\n",
    "\n",
    "load_dotenv()\n",
    "openai.api_key = os.getenv(\"OPENAI_API_KEY\")"
   ]
  },
  {
   "attachments": {},
   "cell_type": "markdown",
   "metadata": {},
   "source": [
    "## Dataset 1: Infodemic Dataset"
   ]
  },
  {
   "cell_type": "code",
   "execution_count": 109,
   "metadata": {},
   "outputs": [],
   "source": [
    "df1=pd.read_csv('data/english_test_with_labels.csv')"
   ]
  },
  {
   "cell_type": "code",
   "execution_count": 110,
   "metadata": {},
   "outputs": [
    {
     "data": {
      "text/html": [
       "<div>\n",
       "<style scoped>\n",
       "    .dataframe tbody tr th:only-of-type {\n",
       "        vertical-align: middle;\n",
       "    }\n",
       "\n",
       "    .dataframe tbody tr th {\n",
       "        vertical-align: top;\n",
       "    }\n",
       "\n",
       "    .dataframe thead th {\n",
       "        text-align: right;\n",
       "    }\n",
       "</style>\n",
       "<table border=\"1\" class=\"dataframe\">\n",
       "  <thead>\n",
       "    <tr style=\"text-align: right;\">\n",
       "      <th></th>\n",
       "      <th>id</th>\n",
       "      <th>tweet</th>\n",
       "      <th>label</th>\n",
       "    </tr>\n",
       "  </thead>\n",
       "  <tbody>\n",
       "    <tr>\n",
       "      <th>0</th>\n",
       "      <td>1</td>\n",
       "      <td>Our daily update is published. States reported...</td>\n",
       "      <td>real</td>\n",
       "    </tr>\n",
       "    <tr>\n",
       "      <th>1</th>\n",
       "      <td>2</td>\n",
       "      <td>Alfalfa is the only cure for COVID-19.</td>\n",
       "      <td>fake</td>\n",
       "    </tr>\n",
       "    <tr>\n",
       "      <th>2</th>\n",
       "      <td>3</td>\n",
       "      <td>President Trump Asked What He Would Do If He W...</td>\n",
       "      <td>fake</td>\n",
       "    </tr>\n",
       "    <tr>\n",
       "      <th>3</th>\n",
       "      <td>4</td>\n",
       "      <td>States reported 630 deaths. We are still seein...</td>\n",
       "      <td>real</td>\n",
       "    </tr>\n",
       "    <tr>\n",
       "      <th>4</th>\n",
       "      <td>5</td>\n",
       "      <td>This is the sixth time a global health emergen...</td>\n",
       "      <td>real</td>\n",
       "    </tr>\n",
       "  </tbody>\n",
       "</table>\n",
       "</div>"
      ],
      "text/plain": [
       "   id                                              tweet label\n",
       "0   1  Our daily update is published. States reported...  real\n",
       "1   2             Alfalfa is the only cure for COVID-19.  fake\n",
       "2   3  President Trump Asked What He Would Do If He W...  fake\n",
       "3   4  States reported 630 deaths. We are still seein...  real\n",
       "4   5  This is the sixth time a global health emergen...  real"
      ]
     },
     "execution_count": 110,
     "metadata": {},
     "output_type": "execute_result"
    }
   ],
   "source": [
    "df1.head()"
   ]
  },
  {
   "cell_type": "code",
   "execution_count": 112,
   "metadata": {},
   "outputs": [
    {
     "data": {
      "text/plain": [
       "label\n",
       "real    1120\n",
       "fake    1020\n",
       "dtype: int64"
      ]
     },
     "execution_count": 112,
     "metadata": {},
     "output_type": "execute_result"
    }
   ],
   "source": [
    "df1.value_counts(\"label\")"
   ]
  },
  {
   "cell_type": "code",
   "execution_count": 114,
   "metadata": {},
   "outputs": [],
   "source": [
    "df1.rename(columns={'tweet':'prompt', 'label':'completion'}, inplace=True)\n",
    "\n",
    "df1.to_csv('labelled.csv', index=False)"
   ]
  },
  {
   "cell_type": "code",
   "execution_count": 115,
   "metadata": {},
   "outputs": [
    {
     "name": "stdout",
     "output_type": "stream",
     "text": [
      "Analyzing...\n",
      "\n",
      "- Based on your file extension, your file is formatted as a CSV file\n",
      "- Your file contains 2140 prompt-completion pairs\n",
      "- The input file should contain exactly two columns/keys per row. Additional columns/keys present are: ['id']\n",
      "  WARNING: Some of the additional columns/keys contain `id` in their name. These will be ignored, and the column/key `id` will be used instead. This could also result from a duplicate column/key in the provided file.\n",
      "- Based on your data it seems like you're trying to fine-tune a model for classification\n",
      "- For classification, we recommend you try one of the faster and cheaper models, such as `ada`\n",
      "- For classification, you can estimate the expected model performance by keeping a held out dataset, which is not used for training\n",
      "- There are 1 examples that are very long. These are rows: [1469]\n",
      "For conditional generation, and for classification the examples shouldn't be longer than 2048 tokens.\n",
      "- Your data does not contain a common separator at the end of your prompts. Having a separator string appended to the end of the prompt makes it clearer to the fine-tuned model where the completion should begin. See https://beta.openai.com/docs/guides/fine-tuning/preparing-your-dataset for more detail and examples. If you intend to do open-ended generation, then you should leave the prompts empty\n",
      "- The completion should start with a whitespace character (` `). This tends to produce better results due to the tokenization we use. See https://beta.openai.com/docs/guides/fine-tuning/preparing-your-dataset for more details\n",
      "\n",
      "Based on the analysis we will perform the following actions:\n",
      "- [Necessary] Your format `CSV` will be converted to `JSONL`\n",
      "- [Necessary] Remove additional columns/keys: ['id']\n",
      "- [Recommended] Remove 1 long examples [Y/n]: ^C\n",
      "\n"
     ]
    }
   ],
   "source": [
    "# DO IN TERMINAL - YES for all\n",
    "! openai tools fine_tunes.prepare_data -f labelled.csv"
   ]
  },
  {
   "cell_type": "code",
   "execution_count": 116,
   "metadata": {},
   "outputs": [
    {
     "name": "stdout",
     "output_type": "stream",
     "text": [
      "Upload progress: 100%|███████████████████████| 395k/395k [00:00<00:00, 100Mit/s]\n",
      "Uploaded file from labelled_prepared_train.jsonl: file-BWX1iGdqrjhHwhIDm3neSIJb\n",
      "Upload progress: 100%|████████████████████| 97.9k/97.9k [00:00<00:00, 55.7Mit/s]\n",
      "Uploaded file from labelled_prepared_valid.jsonl: file-ko1bE41reJCW3P0AXSJU4r4U\n",
      "Created fine-tune: ft-t1HJWc9ujRl4ZXkakLXyiqPy\n",
      "Streaming events until fine-tuning is complete...\n",
      "\n",
      "(Ctrl-C will interrupt the stream, but not cancel the fine-tune)\n",
      "[2023-06-20 13:41:43] Created fine-tune: ft-t1HJWc9ujRl4ZXkakLXyiqPy\n",
      "\n",
      "Stream interrupted (client disconnected).\n",
      "To resume the stream, run:\n",
      "\n",
      "  openai api fine_tunes.follow -i ft-t1HJWc9ujRl4ZXkakLXyiqPy\n",
      "\n"
     ]
    }
   ],
   "source": [
    "! openai api fine_tunes.create -t \"data/labelled_prepared_train.jsonl\" -v \"data/labelled_prepared_valid.jsonl\" --compute_classification_metrics --classification_positive_class \" fake\" -m ada"
   ]
  },
  {
   "cell_type": "code",
   "execution_count": 120,
   "metadata": {},
   "outputs": [
    {
     "name": "stdout",
     "output_type": "stream",
     "text": [
      "[2023-06-20 13:41:43] Created fine-tune: ft-t1HJWc9ujRl4ZXkakLXyiqPy\n",
      "[2023-06-20 13:43:44] Fine-tune costs $0.15\n",
      "[2023-06-20 13:43:44] Fine-tune enqueued. Queue number: 18\n",
      "[2023-06-20 13:43:47] Fine-tune is in the queue. Queue number: 17\n",
      "[2023-06-20 13:44:06] Fine-tune is in the queue. Queue number: 16\n",
      "[2023-06-20 13:44:59] Fine-tune is in the queue. Queue number: 15\n",
      "[2023-06-20 13:46:27] Fine-tune is in the queue. Queue number: 14\n",
      "[2023-06-20 13:48:46] Fine-tune is in the queue. Queue number: 13\n",
      "[2023-06-20 13:49:31] Fine-tune is in the queue. Queue number: 12\n",
      "[2023-06-20 13:51:55] Fine-tune is in the queue. Queue number: 11\n",
      "[2023-06-20 13:53:00] Fine-tune is in the queue. Queue number: 10\n",
      "[2023-06-20 13:53:45] Fine-tune is in the queue. Queue number: 9\n",
      "[2023-06-20 13:54:50] Fine-tune is in the queue. Queue number: 8\n",
      "[2023-06-20 13:55:37] Fine-tune is in the queue. Queue number: 7\n",
      "[2023-06-20 13:56:21] Fine-tune is in the queue. Queue number: 6\n",
      "[2023-06-20 14:06:36] Fine-tune is in the queue. Queue number: 5\n",
      "[2023-06-20 14:13:00] Fine-tune is in the queue. Queue number: 4\n",
      "[2023-06-20 14:16:39] Fine-tune is in the queue. Queue number: 3\n",
      "[2023-06-20 14:18:35] Fine-tune is in the queue. Queue number: 2\n",
      "[2023-06-20 14:19:09] Fine-tune is in the queue. Queue number: 1\n",
      "[2023-06-20 14:19:52] Fine-tune is in the queue. Queue number: 0\n",
      "[2023-06-20 14:24:19] Fine-tune started\n",
      "[2023-06-20 14:30:04] Completed epoch 1/4\n",
      "[2023-06-20 14:41:15] Completed epoch 3/4\n",
      "[2023-06-20 14:47:17] Uploaded model: ada:ft-personal-2023-06-20-12-47-16\n",
      "[2023-06-20 14:47:18] Uploaded result file: file-rvk8EQ5WKwkv1JZ4JbEWws4o\n",
      "[2023-06-20 14:47:18] Fine-tune succeeded\n",
      "\n",
      "Job complete! Status: succeeded 🎉\n",
      "Try out your fine-tuned model:\n",
      "\n",
      "openai api completions.create -m ada:ft-personal-2023-06-20-12-47-16 -p <YOUR_PROMPT>\n"
     ]
    }
   ],
   "source": [
    "! openai api fine_tunes.follow -i ft-t1HJWc9ujRl4ZXkakLXyiqPy"
   ]
  },
  {
   "cell_type": "code",
   "execution_count": 161,
   "metadata": {},
   "outputs": [
    {
     "data": {
      "text/html": [
       "<div>\n",
       "<style scoped>\n",
       "    .dataframe tbody tr th:only-of-type {\n",
       "        vertical-align: middle;\n",
       "    }\n",
       "\n",
       "    .dataframe tbody tr th {\n",
       "        vertical-align: top;\n",
       "    }\n",
       "\n",
       "    .dataframe thead th {\n",
       "        text-align: right;\n",
       "    }\n",
       "</style>\n",
       "<table border=\"1\" class=\"dataframe\">\n",
       "  <thead>\n",
       "    <tr style=\"text-align: right;\">\n",
       "      <th></th>\n",
       "      <th>prompt</th>\n",
       "      <th>completion</th>\n",
       "    </tr>\n",
       "  </thead>\n",
       "  <tbody>\n",
       "    <tr>\n",
       "      <th>0</th>\n",
       "      <td>Alfalfa is the only cure for COVID-19.\\n\\n###\\n\\n</td>\n",
       "      <td>fake</td>\n",
       "    </tr>\n",
       "    <tr>\n",
       "      <th>1</th>\n",
       "      <td>Our daily update is published. We’ve now track...</td>\n",
       "      <td>real</td>\n",
       "    </tr>\n",
       "    <tr>\n",
       "      <th>2</th>\n",
       "      <td>Households should have \"required\" medical kits...</td>\n",
       "      <td>fake</td>\n",
       "    </tr>\n",
       "    <tr>\n",
       "      <th>3</th>\n",
       "      <td>An image of a man carrying his old mother on h...</td>\n",
       "      <td>fake</td>\n",
       "    </tr>\n",
       "    <tr>\n",
       "      <th>4</th>\n",
       "      <td>3/10 About 8% of population \"may be infected a...</td>\n",
       "      <td>real</td>\n",
       "    </tr>\n",
       "  </tbody>\n",
       "</table>\n",
       "</div>"
      ],
      "text/plain": [
       "                                              prompt completion\n",
       "0  Alfalfa is the only cure for COVID-19.\\n\\n###\\n\\n       fake\n",
       "1  Our daily update is published. We’ve now track...       real\n",
       "2  Households should have \"required\" medical kits...       fake\n",
       "3  An image of a man carrying his old mother on h...       fake\n",
       "4  3/10 About 8% of population \"may be infected a...       real"
      ]
     },
     "execution_count": 161,
     "metadata": {},
     "output_type": "execute_result"
    }
   ],
   "source": [
    "# load the validation dataset\n",
    "test = pd.read_json('data/labelled_prepared_valid.jsonl', lines=True)\n",
    "test.head()"
   ]
  },
  {
   "cell_type": "code",
   "execution_count": 162,
   "metadata": {},
   "outputs": [
    {
     "data": {
      "text/html": [
       "<div>\n",
       "<style scoped>\n",
       "    .dataframe tbody tr th:only-of-type {\n",
       "        vertical-align: middle;\n",
       "    }\n",
       "\n",
       "    .dataframe tbody tr th {\n",
       "        vertical-align: top;\n",
       "    }\n",
       "\n",
       "    .dataframe thead th {\n",
       "        text-align: right;\n",
       "    }\n",
       "</style>\n",
       "<table border=\"1\" class=\"dataframe\">\n",
       "  <thead>\n",
       "    <tr style=\"text-align: right;\">\n",
       "      <th></th>\n",
       "      <th>prompt</th>\n",
       "      <th>completion</th>\n",
       "      <th>predictions</th>\n",
       "    </tr>\n",
       "  </thead>\n",
       "  <tbody>\n",
       "    <tr>\n",
       "      <th>0</th>\n",
       "      <td>Alfalfa is the only cure for COVID-19.\\n\\n###\\n\\n</td>\n",
       "      <td>fake</td>\n",
       "      <td>fake</td>\n",
       "    </tr>\n",
       "    <tr>\n",
       "      <th>1</th>\n",
       "      <td>Our daily update is published. We’ve now track...</td>\n",
       "      <td>real</td>\n",
       "      <td>real</td>\n",
       "    </tr>\n",
       "    <tr>\n",
       "      <th>2</th>\n",
       "      <td>Households should have \"required\" medical kits...</td>\n",
       "      <td>fake</td>\n",
       "      <td>fake</td>\n",
       "    </tr>\n",
       "    <tr>\n",
       "      <th>3</th>\n",
       "      <td>An image of a man carrying his old mother on h...</td>\n",
       "      <td>fake</td>\n",
       "      <td>fake</td>\n",
       "    </tr>\n",
       "    <tr>\n",
       "      <th>4</th>\n",
       "      <td>3/10 About 8% of population \"may be infected a...</td>\n",
       "      <td>real</td>\n",
       "      <td>real</td>\n",
       "    </tr>\n",
       "    <tr>\n",
       "      <th>...</th>\n",
       "      <td>...</td>\n",
       "      <td>...</td>\n",
       "      <td>...</td>\n",
       "    </tr>\n",
       "    <tr>\n",
       "      <th>423</th>\n",
       "      <td>Total deaths reached 16399. States reported 19...</td>\n",
       "      <td>real</td>\n",
       "      <td>real</td>\n",
       "    </tr>\n",
       "    <tr>\n",
       "      <th>424</th>\n",
       "      <td>???China is to blame because the culture where...</td>\n",
       "      <td>fake</td>\n",
       "      <td>fake</td>\n",
       "    </tr>\n",
       "    <tr>\n",
       "      <th>425</th>\n",
       "      <td>Banana contains a lectin that is a powerful an...</td>\n",
       "      <td>fake</td>\n",
       "      <td>fake</td>\n",
       "    </tr>\n",
       "    <tr>\n",
       "      <th>426</th>\n",
       "      <td>Asymptomatic coronavirus spread is rare @WHO s...</td>\n",
       "      <td>real</td>\n",
       "      <td>real</td>\n",
       "    </tr>\n",
       "    <tr>\n",
       "      <th>427</th>\n",
       "      <td>*Note: Lagos State recorded 25 deaths between ...</td>\n",
       "      <td>real</td>\n",
       "      <td>real</td>\n",
       "    </tr>\n",
       "  </tbody>\n",
       "</table>\n",
       "<p>428 rows × 3 columns</p>\n",
       "</div>"
      ],
      "text/plain": [
       "                                                prompt completion predictions\n",
       "0    Alfalfa is the only cure for COVID-19.\\n\\n###\\n\\n       fake        fake\n",
       "1    Our daily update is published. We’ve now track...       real        real\n",
       "2    Households should have \"required\" medical kits...       fake        fake\n",
       "3    An image of a man carrying his old mother on h...       fake        fake\n",
       "4    3/10 About 8% of population \"may be infected a...       real        real\n",
       "..                                                 ...        ...         ...\n",
       "423  Total deaths reached 16399. States reported 19...       real        real\n",
       "424  ???China is to blame because the culture where...       fake        fake\n",
       "425  Banana contains a lectin that is a powerful an...       fake        fake\n",
       "426  Asymptomatic coronavirus spread is rare @WHO s...       real        real\n",
       "427  *Note: Lagos State recorded 25 deaths between ...       real        real\n",
       "\n",
       "[428 rows x 3 columns]"
      ]
     },
     "execution_count": 162,
     "metadata": {},
     "output_type": "execute_result"
    }
   ],
   "source": [
    "ft_model = 'ada:ft-personal-2023-06-20-12-47-16'\n",
    " \n",
    "def detect(text):\n",
    "     \n",
    "    # add the suffix to the prompt\n",
    "    input_prompt = text + ' \\n\\n###\\n\\n'\n",
    "    response = openai.Completion.create(model=ft_model, prompt=input_prompt, max_tokens=1, temperature=0)\n",
    "     \n",
    "    output = response['choices'][0]['text']\n",
    "    return output\n",
    " \n",
    " \n",
    "# get predictions for the test dataset\n",
    "test['predictions'] = test['prompt'].apply(lambda x:detect(x))\n",
    " \n",
    "test"
   ]
  },
  {
   "cell_type": "code",
   "execution_count": 163,
   "metadata": {},
   "outputs": [
    {
     "data": {
      "text/plain": [
       "predictions\n",
       " real    219\n",
       " fake    209\n",
       "dtype: int64"
      ]
     },
     "execution_count": 163,
     "metadata": {},
     "output_type": "execute_result"
    }
   ],
   "source": [
    "test.value_counts('predictions')"
   ]
  },
  {
   "cell_type": "code",
   "execution_count": 164,
   "metadata": {},
   "outputs": [
    {
     "data": {
      "text/plain": [
       "0.9742990654205608"
      ]
     },
     "execution_count": 164,
     "metadata": {},
     "output_type": "execute_result"
    }
   ],
   "source": [
    "np.mean(test.completion==test.predictions)"
   ]
  },
  {
   "cell_type": "code",
   "execution_count": 165,
   "metadata": {},
   "outputs": [
    {
     "name": "stdout",
     "output_type": "stream",
     "text": [
      "Accuracy: 0.9742990654205608\n",
      "Precision: 0.9760765550239234\n",
      "Recall: 0.9714285714285714\n"
     ]
    }
   ],
   "source": [
    "accuracy = accuracy_score(test.completion, test.predictions)\n",
    "precision = precision_score(test.completion, test.predictions, pos_label=' fake')\n",
    "recall = recall_score(test.completion, test.predictions, pos_label=' fake')\n",
    "\n",
    "print(\"Accuracy:\", accuracy)\n",
    "print(\"Precision:\", precision)\n",
    "print(\"Recall:\", recall)"
   ]
  },
  {
   "cell_type": "code",
   "execution_count": 130,
   "metadata": {},
   "outputs": [
    {
     "data": {
      "text/html": [
       "<div>\n",
       "<style scoped>\n",
       "    .dataframe tbody tr th:only-of-type {\n",
       "        vertical-align: middle;\n",
       "    }\n",
       "\n",
       "    .dataframe tbody tr th {\n",
       "        vertical-align: top;\n",
       "    }\n",
       "\n",
       "    .dataframe thead th {\n",
       "        text-align: right;\n",
       "    }\n",
       "</style>\n",
       "<table border=\"1\" class=\"dataframe\">\n",
       "  <thead>\n",
       "    <tr style=\"text-align: right;\">\n",
       "      <th></th>\n",
       "      <th>prompt</th>\n",
       "      <th>completion</th>\n",
       "      <th>predictions</th>\n",
       "    </tr>\n",
       "  </thead>\n",
       "  <tbody>\n",
       "    <tr>\n",
       "      <th>21</th>\n",
       "      <td>There are 4 #COVID19 Govt. testing lab in #Agr...</td>\n",
       "      <td>real</td>\n",
       "      <td>fake</td>\n",
       "    </tr>\n",
       "    <tr>\n",
       "      <th>22</th>\n",
       "      <td>#IndiaFightsCorona: #COVID19 does not even spa...</td>\n",
       "      <td>real</td>\n",
       "      <td>fake</td>\n",
       "    </tr>\n",
       "    <tr>\n",
       "      <th>28</th>\n",
       "      <td>The underlying cause of death in the vast majo...</td>\n",
       "      <td>fake</td>\n",
       "      <td>real</td>\n",
       "    </tr>\n",
       "    <tr>\n",
       "      <th>76</th>\n",
       "      <td>@geoallison Today's official figures.\\n\\nA rec...</td>\n",
       "      <td>fake</td>\n",
       "      <td>real</td>\n",
       "    </tr>\n",
       "    <tr>\n",
       "      <th>92</th>\n",
       "      <td>A paper estimating that 266796 COVID-19 cases ...</td>\n",
       "      <td>fake</td>\n",
       "      <td>real</td>\n",
       "    </tr>\n",
       "    <tr>\n",
       "      <th>165</th>\n",
       "      <td>This is just another indication that COVID-19 ...</td>\n",
       "      <td>real</td>\n",
       "      <td>fake</td>\n",
       "    </tr>\n",
       "    <tr>\n",
       "      <th>255</th>\n",
       "      <td>The lack of coronavirus testing in the U.S. is...</td>\n",
       "      <td>fake</td>\n",
       "      <td>real</td>\n",
       "    </tr>\n",
       "    <tr>\n",
       "      <th>293</th>\n",
       "      <td>Really we need to move on from hydroxychloroqu...</td>\n",
       "      <td>real</td>\n",
       "      <td>fake</td>\n",
       "    </tr>\n",
       "    <tr>\n",
       "      <th>294</th>\n",
       "      <td>NSW, Australia #COVID19 positive Chinese woman...</td>\n",
       "      <td>fake</td>\n",
       "      <td>real</td>\n",
       "    </tr>\n",
       "    <tr>\n",
       "      <th>308</th>\n",
       "      <td>We’re up bright and early celebrating healthca...</td>\n",
       "      <td>real</td>\n",
       "      <td>fake</td>\n",
       "    </tr>\n",
       "    <tr>\n",
       "      <th>348</th>\n",
       "      <td>Proud of @BoltsPk team busy in packing stuff f...</td>\n",
       "      <td>fake</td>\n",
       "      <td>real</td>\n",
       "    </tr>\n",
       "  </tbody>\n",
       "</table>\n",
       "</div>"
      ],
      "text/plain": [
       "                                                prompt completion predictions\n",
       "21   There are 4 #COVID19 Govt. testing lab in #Agr...       real        fake\n",
       "22   #IndiaFightsCorona: #COVID19 does not even spa...       real        fake\n",
       "28   The underlying cause of death in the vast majo...       fake        real\n",
       "76   @geoallison Today's official figures.\\n\\nA rec...       fake        real\n",
       "92   A paper estimating that 266796 COVID-19 cases ...       fake        real\n",
       "165  This is just another indication that COVID-19 ...       real        fake\n",
       "255  The lack of coronavirus testing in the U.S. is...       fake        real\n",
       "293  Really we need to move on from hydroxychloroqu...       real        fake\n",
       "294  NSW, Australia #COVID19 positive Chinese woman...       fake        real\n",
       "308  We’re up bright and early celebrating healthca...       real        fake\n",
       "348  Proud of @BoltsPk team busy in packing stuff f...       fake        real"
      ]
     },
     "execution_count": 130,
     "metadata": {},
     "output_type": "execute_result"
    }
   ],
   "source": [
    "# show rows where the predicted label is different from the actual label\n",
    "\n",
    "test[test.completion!=test.predictions]"
   ]
  },
  {
   "attachments": {},
   "cell_type": "markdown",
   "metadata": {},
   "source": [
    "# Dataset 2: TurthSeeker Dataset"
   ]
  },
  {
   "cell_type": "code",
   "execution_count": 31,
   "metadata": {},
   "outputs": [],
   "source": [
    "df2 = pd.read_csv('data/Truth_Seeker_Model_Dataset.csv')"
   ]
  },
  {
   "cell_type": "code",
   "execution_count": 5,
   "metadata": {},
   "outputs": [
    {
     "data": {
      "text/html": [
       "<div>\n",
       "<style scoped>\n",
       "    .dataframe tbody tr th:only-of-type {\n",
       "        vertical-align: middle;\n",
       "    }\n",
       "\n",
       "    .dataframe tbody tr th {\n",
       "        vertical-align: top;\n",
       "    }\n",
       "\n",
       "    .dataframe thead th {\n",
       "        text-align: right;\n",
       "    }\n",
       "</style>\n",
       "<table border=\"1\" class=\"dataframe\">\n",
       "  <thead>\n",
       "    <tr style=\"text-align: right;\">\n",
       "      <th></th>\n",
       "      <th>Unnamed: 0</th>\n",
       "      <th>author</th>\n",
       "      <th>statement</th>\n",
       "      <th>target</th>\n",
       "      <th>BinaryNumTarget</th>\n",
       "      <th>manual_keywords</th>\n",
       "      <th>tweet</th>\n",
       "      <th>5_label_majority_answer</th>\n",
       "      <th>3_label_majority_answer</th>\n",
       "    </tr>\n",
       "  </thead>\n",
       "  <tbody>\n",
       "    <tr>\n",
       "      <th>0</th>\n",
       "      <td>0</td>\n",
       "      <td>D.L. Davis</td>\n",
       "      <td>End of eviction moratorium means millions of A...</td>\n",
       "      <td>True</td>\n",
       "      <td>1.0</td>\n",
       "      <td>Americans, eviction moratorium</td>\n",
       "      <td>@POTUS Biden Blunders - 6 Month Update\\n\\nInfl...</td>\n",
       "      <td>Mostly Agree</td>\n",
       "      <td>Agree</td>\n",
       "    </tr>\n",
       "    <tr>\n",
       "      <th>1</th>\n",
       "      <td>1</td>\n",
       "      <td>D.L. Davis</td>\n",
       "      <td>End of eviction moratorium means millions of A...</td>\n",
       "      <td>True</td>\n",
       "      <td>1.0</td>\n",
       "      <td>Americans, eviction moratorium</td>\n",
       "      <td>@S0SickRick @Stairmaster_ @6d6f636869 Not as m...</td>\n",
       "      <td>NO MAJORITY</td>\n",
       "      <td>Agree</td>\n",
       "    </tr>\n",
       "    <tr>\n",
       "      <th>2</th>\n",
       "      <td>2</td>\n",
       "      <td>D.L. Davis</td>\n",
       "      <td>End of eviction moratorium means millions of A...</td>\n",
       "      <td>True</td>\n",
       "      <td>1.0</td>\n",
       "      <td>Americans, eviction moratorium</td>\n",
       "      <td>THE SUPREME COURT is siding with super rich pr...</td>\n",
       "      <td>Agree</td>\n",
       "      <td>Agree</td>\n",
       "    </tr>\n",
       "    <tr>\n",
       "      <th>3</th>\n",
       "      <td>3</td>\n",
       "      <td>D.L. Davis</td>\n",
       "      <td>End of eviction moratorium means millions of A...</td>\n",
       "      <td>True</td>\n",
       "      <td>1.0</td>\n",
       "      <td>Americans, eviction moratorium</td>\n",
       "      <td>@POTUS Biden Blunders\\n\\nBroken campaign promi...</td>\n",
       "      <td>Mostly Agree</td>\n",
       "      <td>Agree</td>\n",
       "    </tr>\n",
       "    <tr>\n",
       "      <th>4</th>\n",
       "      <td>4</td>\n",
       "      <td>D.L. Davis</td>\n",
       "      <td>End of eviction moratorium means millions of A...</td>\n",
       "      <td>True</td>\n",
       "      <td>1.0</td>\n",
       "      <td>Americans, eviction moratorium</td>\n",
       "      <td>@OhComfy I agree. The confluence of events rig...</td>\n",
       "      <td>Agree</td>\n",
       "      <td>Agree</td>\n",
       "    </tr>\n",
       "  </tbody>\n",
       "</table>\n",
       "</div>"
      ],
      "text/plain": [
       "   Unnamed: 0      author                                          statement  \\\n",
       "0           0  D.L. Davis  End of eviction moratorium means millions of A...   \n",
       "1           1  D.L. Davis  End of eviction moratorium means millions of A...   \n",
       "2           2  D.L. Davis  End of eviction moratorium means millions of A...   \n",
       "3           3  D.L. Davis  End of eviction moratorium means millions of A...   \n",
       "4           4  D.L. Davis  End of eviction moratorium means millions of A...   \n",
       "\n",
       "   target  BinaryNumTarget                 manual_keywords  \\\n",
       "0    True              1.0  Americans, eviction moratorium   \n",
       "1    True              1.0  Americans, eviction moratorium   \n",
       "2    True              1.0  Americans, eviction moratorium   \n",
       "3    True              1.0  Americans, eviction moratorium   \n",
       "4    True              1.0  Americans, eviction moratorium   \n",
       "\n",
       "                                               tweet 5_label_majority_answer  \\\n",
       "0  @POTUS Biden Blunders - 6 Month Update\\n\\nInfl...            Mostly Agree   \n",
       "1  @S0SickRick @Stairmaster_ @6d6f636869 Not as m...             NO MAJORITY   \n",
       "2  THE SUPREME COURT is siding with super rich pr...                   Agree   \n",
       "3  @POTUS Biden Blunders\\n\\nBroken campaign promi...            Mostly Agree   \n",
       "4  @OhComfy I agree. The confluence of events rig...                   Agree   \n",
       "\n",
       "  3_label_majority_answer  \n",
       "0                   Agree  \n",
       "1                   Agree  \n",
       "2                   Agree  \n",
       "3                   Agree  \n",
       "4                   Agree  "
      ]
     },
     "execution_count": 5,
     "metadata": {},
     "output_type": "execute_result"
    }
   ],
   "source": [
    "df2.head()"
   ]
  },
  {
   "cell_type": "code",
   "execution_count": 32,
   "metadata": {},
   "outputs": [
    {
     "data": {
      "text/plain": [
       "target\n",
       "True     68930\n",
       "False    65268\n",
       "dtype: int64"
      ]
     },
     "execution_count": 32,
     "metadata": {},
     "output_type": "execute_result"
    }
   ],
   "source": [
    "df2.value_counts('target')"
   ]
  },
  {
   "cell_type": "code",
   "execution_count": 33,
   "metadata": {},
   "outputs": [],
   "source": [
    "df2.drop(columns=['Unnamed: 0', 'author', 'statement', 'BinaryNumTarget', 'manual_keywords', '5_label_majority_answer', '3_label_majority_answer'], inplace=True)"
   ]
  },
  {
   "cell_type": "code",
   "execution_count": 8,
   "metadata": {},
   "outputs": [
    {
     "data": {
      "text/html": [
       "<div>\n",
       "<style scoped>\n",
       "    .dataframe tbody tr th:only-of-type {\n",
       "        vertical-align: middle;\n",
       "    }\n",
       "\n",
       "    .dataframe tbody tr th {\n",
       "        vertical-align: top;\n",
       "    }\n",
       "\n",
       "    .dataframe thead th {\n",
       "        text-align: right;\n",
       "    }\n",
       "</style>\n",
       "<table border=\"1\" class=\"dataframe\">\n",
       "  <thead>\n",
       "    <tr style=\"text-align: right;\">\n",
       "      <th></th>\n",
       "      <th>target</th>\n",
       "      <th>tweet</th>\n",
       "    </tr>\n",
       "  </thead>\n",
       "  <tbody>\n",
       "    <tr>\n",
       "      <th>0</th>\n",
       "      <td>True</td>\n",
       "      <td>@POTUS Biden Blunders - 6 Month Update\\n\\nInfl...</td>\n",
       "    </tr>\n",
       "    <tr>\n",
       "      <th>1</th>\n",
       "      <td>True</td>\n",
       "      <td>@S0SickRick @Stairmaster_ @6d6f636869 Not as m...</td>\n",
       "    </tr>\n",
       "    <tr>\n",
       "      <th>2</th>\n",
       "      <td>True</td>\n",
       "      <td>THE SUPREME COURT is siding with super rich pr...</td>\n",
       "    </tr>\n",
       "    <tr>\n",
       "      <th>3</th>\n",
       "      <td>True</td>\n",
       "      <td>@POTUS Biden Blunders\\n\\nBroken campaign promi...</td>\n",
       "    </tr>\n",
       "    <tr>\n",
       "      <th>4</th>\n",
       "      <td>True</td>\n",
       "      <td>@OhComfy I agree. The confluence of events rig...</td>\n",
       "    </tr>\n",
       "  </tbody>\n",
       "</table>\n",
       "</div>"
      ],
      "text/plain": [
       "   target                                              tweet\n",
       "0    True  @POTUS Biden Blunders - 6 Month Update\\n\\nInfl...\n",
       "1    True  @S0SickRick @Stairmaster_ @6d6f636869 Not as m...\n",
       "2    True  THE SUPREME COURT is siding with super rich pr...\n",
       "3    True  @POTUS Biden Blunders\\n\\nBroken campaign promi...\n",
       "4    True  @OhComfy I agree. The confluence of events rig..."
      ]
     },
     "execution_count": 8,
     "metadata": {},
     "output_type": "execute_result"
    }
   ],
   "source": [
    "df2.head()"
   ]
  },
  {
   "cell_type": "code",
   "execution_count": 34,
   "metadata": {},
   "outputs": [],
   "source": [
    "# rename rows with true to fake and false to true\n",
    "\n",
    "df2.rename(columns={'tweet':'prompt', 'target':'completion'}, inplace=True)\n",
    "df2['completion'] = df2['completion'].astype(str)\n",
    "df2['completion'].replace({'True':'real', 'False':'fake'}, inplace=True)\n",
    "df2.to_csv('labelled2.csv', index=False)"
   ]
  },
  {
   "cell_type": "code",
   "execution_count": null,
   "metadata": {},
   "outputs": [],
   "source": [
    "# DO IN TERMINAL - NO for split data\n",
    "! openai tools fine_tunes.prepare_data -f labelled2.csv"
   ]
  },
  {
   "cell_type": "code",
   "execution_count": 36,
   "metadata": {},
   "outputs": [
    {
     "data": {
      "text/html": [
       "<div>\n",
       "<style scoped>\n",
       "    .dataframe tbody tr th:only-of-type {\n",
       "        vertical-align: middle;\n",
       "    }\n",
       "\n",
       "    .dataframe tbody tr th {\n",
       "        vertical-align: top;\n",
       "    }\n",
       "\n",
       "    .dataframe thead th {\n",
       "        text-align: right;\n",
       "    }\n",
       "</style>\n",
       "<table border=\"1\" class=\"dataframe\">\n",
       "  <thead>\n",
       "    <tr style=\"text-align: right;\">\n",
       "      <th></th>\n",
       "      <th>prompt</th>\n",
       "      <th>completion</th>\n",
       "    </tr>\n",
       "  </thead>\n",
       "  <tbody>\n",
       "    <tr>\n",
       "      <th>0</th>\n",
       "      <td>@POTUS Biden Blunders - 6 Month Update\\n\\nInfl...</td>\n",
       "      <td>real</td>\n",
       "    </tr>\n",
       "    <tr>\n",
       "      <th>1</th>\n",
       "      <td>@S0SickRick @Stairmaster_ @6d6f636869 Not as m...</td>\n",
       "      <td>real</td>\n",
       "    </tr>\n",
       "    <tr>\n",
       "      <th>2</th>\n",
       "      <td>THE SUPREME COURT is siding with super rich pr...</td>\n",
       "      <td>real</td>\n",
       "    </tr>\n",
       "    <tr>\n",
       "      <th>3</th>\n",
       "      <td>@POTUS Biden Blunders\\n\\nBroken campaign promi...</td>\n",
       "      <td>real</td>\n",
       "    </tr>\n",
       "    <tr>\n",
       "      <th>4</th>\n",
       "      <td>@OhComfy I agree. The confluence of events rig...</td>\n",
       "      <td>real</td>\n",
       "    </tr>\n",
       "  </tbody>\n",
       "</table>\n",
       "</div>"
      ],
      "text/plain": [
       "                                              prompt completion\n",
       "0  @POTUS Biden Blunders - 6 Month Update\\n\\nInfl...       real\n",
       "1  @S0SickRick @Stairmaster_ @6d6f636869 Not as m...       real\n",
       "2  THE SUPREME COURT is siding with super rich pr...       real\n",
       "3  @POTUS Biden Blunders\\n\\nBroken campaign promi...       real\n",
       "4  @OhComfy I agree. The confluence of events rig...       real"
      ]
     },
     "execution_count": 36,
     "metadata": {},
     "output_type": "execute_result"
    }
   ],
   "source": [
    "# we skip fine tuning because we will use the model we trained before\n",
    "\n",
    "# load the whole new dataset\n",
    "test2 = pd.read_json('data/labelled2_prepared.jsonl', lines=True)\n",
    "test2.head()"
   ]
  },
  {
   "cell_type": "code",
   "execution_count": 68,
   "metadata": {},
   "outputs": [
    {
     "data": {
      "text/plain": [
       "completion\n",
       " real                                                                                                                         68930\n",
       " fake                                                                                                                         65268\n",
       " #FLDebate                                                                                                                        1\n",
       " Our New Hampshire poll is finding real anger toward Sen. Kelly Ayotte over her no vote on background checks #NowIsTheTime        1\n",
       " Trump admin hypocritical on States' Rights vis  vis Healthcare v Marijuana. ReeferMadness redux                                  1\n",
       " because of gun control: 56                                                                                                       1\n",
       " million.                                                                                                                         1\n",
       "dtype: int64"
      ]
     },
     "execution_count": 68,
     "metadata": {},
     "output_type": "execute_result"
    }
   ],
   "source": [
    "test2.value_counts('completion')"
   ]
  },
  {
   "cell_type": "code",
   "execution_count": 82,
   "metadata": {},
   "outputs": [
    {
     "data": {
      "text/plain": [
       "completion\n",
       " real    68930\n",
       " fake    65268\n",
       "dtype: int64"
      ]
     },
     "execution_count": 82,
     "metadata": {},
     "output_type": "execute_result"
    }
   ],
   "source": [
    "test2 = test2[test2['completion'].isin([' fake', ' real'])]\n",
    "test2.value_counts('completion')"
   ]
  },
  {
   "cell_type": "code",
   "execution_count": 111,
   "metadata": {},
   "outputs": [],
   "source": [
    "# take only 0,5% of the dataset for now --> otherwise too long and too expensive API calls\n",
    "\n",
    "test3 = test2.sample(frac=0.005, random_state=1)"
   ]
  },
  {
   "cell_type": "code",
   "execution_count": 105,
   "metadata": {},
   "outputs": [],
   "source": [
    "test3 = test3[test3['completion'].isin([' fake', ' real'])] # idk why we need to do this again but there was one row with a different label"
   ]
  },
  {
   "cell_type": "code",
   "execution_count": 112,
   "metadata": {},
   "outputs": [
    {
     "data": {
      "text/plain": [
       "completion\n",
       " real    358\n",
       " fake    313\n",
       "dtype: int64"
      ]
     },
     "execution_count": 112,
     "metadata": {},
     "output_type": "execute_result"
    }
   ],
   "source": [
    "test3.value_counts('completion')"
   ]
  },
  {
   "cell_type": "code",
   "execution_count": 113,
   "metadata": {},
   "outputs": [
    {
     "data": {
      "text/html": [
       "<div>\n",
       "<style scoped>\n",
       "    .dataframe tbody tr th:only-of-type {\n",
       "        vertical-align: middle;\n",
       "    }\n",
       "\n",
       "    .dataframe tbody tr th {\n",
       "        vertical-align: top;\n",
       "    }\n",
       "\n",
       "    .dataframe thead th {\n",
       "        text-align: right;\n",
       "    }\n",
       "</style>\n",
       "<table border=\"1\" class=\"dataframe\">\n",
       "  <thead>\n",
       "    <tr style=\"text-align: right;\">\n",
       "      <th></th>\n",
       "      <th>prompt</th>\n",
       "      <th>completion</th>\n",
       "      <th>predictions</th>\n",
       "    </tr>\n",
       "  </thead>\n",
       "  <tbody>\n",
       "    <tr>\n",
       "      <th>129659</th>\n",
       "      <td>@Ali79596850 @NicolaSturgeon They don't test f...</td>\n",
       "      <td>fake</td>\n",
       "      <td>fake</td>\n",
       "    </tr>\n",
       "    <tr>\n",
       "      <th>22878</th>\n",
       "      <td>#Trumplandia &amp;gt; So States rights matter on #...</td>\n",
       "      <td>real</td>\n",
       "      <td>fake</td>\n",
       "    </tr>\n",
       "    <tr>\n",
       "      <th>66829</th>\n",
       "      <td>@Celeste03639266 @CCW315 @nytimes Youre not un...</td>\n",
       "      <td>real</td>\n",
       "      <td>fake</td>\n",
       "    </tr>\n",
       "    <tr>\n",
       "      <th>17927</th>\n",
       "      <td>@SplashtownDrew @Ian_Cades Not if the minimum ...</td>\n",
       "      <td>real</td>\n",
       "      <td>real</td>\n",
       "    </tr>\n",
       "    <tr>\n",
       "      <th>116821</th>\n",
       "      <td>@BreitbartNews God hates hands that shed innoc...</td>\n",
       "      <td>fake</td>\n",
       "      <td>fake</td>\n",
       "    </tr>\n",
       "    <tr>\n",
       "      <th>...</th>\n",
       "      <td>...</td>\n",
       "      <td>...</td>\n",
       "      <td>...</td>\n",
       "    </tr>\n",
       "    <tr>\n",
       "      <th>94574</th>\n",
       "      <td>Since the world has gone crazy, can I talk abo...</td>\n",
       "      <td>fake</td>\n",
       "      <td>fake</td>\n",
       "    </tr>\n",
       "    <tr>\n",
       "      <th>50590</th>\n",
       "      <td>@MillerLtSword @klcmurphy @JohnSpohn1 @chrlywd...</td>\n",
       "      <td>fake</td>\n",
       "      <td>fake</td>\n",
       "    </tr>\n",
       "    <tr>\n",
       "      <th>35543</th>\n",
       "      <td>@zascmo @SpindleyBobbins @ClintSmithIII State ...</td>\n",
       "      <td>real</td>\n",
       "      <td>fake</td>\n",
       "    </tr>\n",
       "    <tr>\n",
       "      <th>15449</th>\n",
       "      <td>@MichaelNey19 @JonelleElgaway @CanadaPain @CMe...</td>\n",
       "      <td>real</td>\n",
       "      <td>fake</td>\n",
       "    </tr>\n",
       "    <tr>\n",
       "      <th>59272</th>\n",
       "      <td>@Ventuckyspaz @caitoz Well they have a lot I c...</td>\n",
       "      <td>real</td>\n",
       "      <td>fake</td>\n",
       "    </tr>\n",
       "  </tbody>\n",
       "</table>\n",
       "<p>671 rows × 3 columns</p>\n",
       "</div>"
      ],
      "text/plain": [
       "                                                   prompt completion  \\\n",
       "129659  @Ali79596850 @NicolaSturgeon They don't test f...       fake   \n",
       "22878   #Trumplandia &gt; So States rights matter on #...       real   \n",
       "66829   @Celeste03639266 @CCW315 @nytimes Youre not un...       real   \n",
       "17927   @SplashtownDrew @Ian_Cades Not if the minimum ...       real   \n",
       "116821  @BreitbartNews God hates hands that shed innoc...       fake   \n",
       "...                                                   ...        ...   \n",
       "94574   Since the world has gone crazy, can I talk abo...       fake   \n",
       "50590   @MillerLtSword @klcmurphy @JohnSpohn1 @chrlywd...       fake   \n",
       "35543   @zascmo @SpindleyBobbins @ClintSmithIII State ...       real   \n",
       "15449   @MichaelNey19 @JonelleElgaway @CanadaPain @CMe...       real   \n",
       "59272   @Ventuckyspaz @caitoz Well they have a lot I c...       real   \n",
       "\n",
       "       predictions  \n",
       "129659        fake  \n",
       "22878         fake  \n",
       "66829         fake  \n",
       "17927         real  \n",
       "116821        fake  \n",
       "...            ...  \n",
       "94574         fake  \n",
       "50590         fake  \n",
       "35543         fake  \n",
       "15449         fake  \n",
       "59272         fake  \n",
       "\n",
       "[671 rows x 3 columns]"
      ]
     },
     "execution_count": 113,
     "metadata": {},
     "output_type": "execute_result"
    }
   ],
   "source": [
    "#we use the finetune model we trained and the \"detect\" function we defined above\n",
    "\n",
    "test3['predictions'] = test3['prompt'].apply(lambda x:detect(x))\n",
    " \n",
    "test3"
   ]
  },
  {
   "cell_type": "code",
   "execution_count": 114,
   "metadata": {},
   "outputs": [
    {
     "data": {
      "text/plain": [
       " fake    640\n",
       " real     31\n",
       "Name: predictions, dtype: int64"
      ]
     },
     "execution_count": 114,
     "metadata": {},
     "output_type": "execute_result"
    }
   ],
   "source": [
    "test3.predictions.value_counts()"
   ]
  },
  {
   "cell_type": "code",
   "execution_count": 115,
   "metadata": {},
   "outputs": [
    {
     "data": {
      "text/plain": [
       "0.4858420268256334"
      ]
     },
     "execution_count": 115,
     "metadata": {},
     "output_type": "execute_result"
    }
   ],
   "source": [
    "np.mean(test3.completion==test3.predictions)"
   ]
  },
  {
   "cell_type": "code",
   "execution_count": 156,
   "metadata": {},
   "outputs": [
    {
     "name": "stdout",
     "output_type": "stream",
     "text": [
      "Accuracy: 0.4858420268256334\n",
      "Precision: 0.475\n",
      "Recall: 0.9712460063897763\n"
     ]
    }
   ],
   "source": [
    "accuracy = accuracy_score(test3.completion, test3.predictions)\n",
    "precision = precision_score(test3.completion, test3.predictions, pos_label=' fake')\n",
    "recall = recall_score(test3.completion, test3.predictions, pos_label=' fake')\n",
    "\n",
    "print(\"Accuracy:\", accuracy)\n",
    "print(\"Precision:\", precision)\n",
    "print(\"Recall:\", recall)"
   ]
  },
  {
   "cell_type": "code",
   "execution_count": 116,
   "metadata": {},
   "outputs": [
    {
     "data": {
      "text/html": [
       "<div>\n",
       "<style scoped>\n",
       "    .dataframe tbody tr th:only-of-type {\n",
       "        vertical-align: middle;\n",
       "    }\n",
       "\n",
       "    .dataframe tbody tr th {\n",
       "        vertical-align: top;\n",
       "    }\n",
       "\n",
       "    .dataframe thead th {\n",
       "        text-align: right;\n",
       "    }\n",
       "</style>\n",
       "<table border=\"1\" class=\"dataframe\">\n",
       "  <thead>\n",
       "    <tr style=\"text-align: right;\">\n",
       "      <th></th>\n",
       "      <th>prompt</th>\n",
       "      <th>completion</th>\n",
       "      <th>predictions</th>\n",
       "    </tr>\n",
       "  </thead>\n",
       "  <tbody>\n",
       "    <tr>\n",
       "      <th>22878</th>\n",
       "      <td>#Trumplandia &amp;gt; So States rights matter on #...</td>\n",
       "      <td>real</td>\n",
       "      <td>fake</td>\n",
       "    </tr>\n",
       "    <tr>\n",
       "      <th>66829</th>\n",
       "      <td>@Celeste03639266 @CCW315 @nytimes Youre not un...</td>\n",
       "      <td>real</td>\n",
       "      <td>fake</td>\n",
       "    </tr>\n",
       "    <tr>\n",
       "      <th>29258</th>\n",
       "      <td>Marco Rubio voted against the Violence Against...</td>\n",
       "      <td>real</td>\n",
       "      <td>fake</td>\n",
       "    </tr>\n",
       "    <tr>\n",
       "      <th>2736</th>\n",
       "      <td>Drug overdoses were responsible for killing ov...</td>\n",
       "      <td>real</td>\n",
       "      <td>fake</td>\n",
       "    </tr>\n",
       "    <tr>\n",
       "      <th>66639</th>\n",
       "      <td>@CLTKICKSNFUNK @chamath Pro-union/ minimum wag...</td>\n",
       "      <td>real</td>\n",
       "      <td>fake</td>\n",
       "    </tr>\n",
       "    <tr>\n",
       "      <th>...</th>\n",
       "      <td>...</td>\n",
       "      <td>...</td>\n",
       "      <td>...</td>\n",
       "    </tr>\n",
       "    <tr>\n",
       "      <th>1519</th>\n",
       "      <td>@RealCameronDye @EricksonAaron44 @DanPriceSeat...</td>\n",
       "      <td>real</td>\n",
       "      <td>fake</td>\n",
       "    </tr>\n",
       "    <tr>\n",
       "      <th>14999</th>\n",
       "      <td>New York's paid family leave is set to take ef...</td>\n",
       "      <td>real</td>\n",
       "      <td>fake</td>\n",
       "    </tr>\n",
       "    <tr>\n",
       "      <th>35543</th>\n",
       "      <td>@zascmo @SpindleyBobbins @ClintSmithIII State ...</td>\n",
       "      <td>real</td>\n",
       "      <td>fake</td>\n",
       "    </tr>\n",
       "    <tr>\n",
       "      <th>15449</th>\n",
       "      <td>@MichaelNey19 @JonelleElgaway @CanadaPain @CMe...</td>\n",
       "      <td>real</td>\n",
       "      <td>fake</td>\n",
       "    </tr>\n",
       "    <tr>\n",
       "      <th>59272</th>\n",
       "      <td>@Ventuckyspaz @caitoz Well they have a lot I c...</td>\n",
       "      <td>real</td>\n",
       "      <td>fake</td>\n",
       "    </tr>\n",
       "  </tbody>\n",
       "</table>\n",
       "<p>345 rows × 3 columns</p>\n",
       "</div>"
      ],
      "text/plain": [
       "                                                  prompt completion  \\\n",
       "22878  #Trumplandia &gt; So States rights matter on #...       real   \n",
       "66829  @Celeste03639266 @CCW315 @nytimes Youre not un...       real   \n",
       "29258  Marco Rubio voted against the Violence Against...       real   \n",
       "2736   Drug overdoses were responsible for killing ov...       real   \n",
       "66639  @CLTKICKSNFUNK @chamath Pro-union/ minimum wag...       real   \n",
       "...                                                  ...        ...   \n",
       "1519   @RealCameronDye @EricksonAaron44 @DanPriceSeat...       real   \n",
       "14999  New York's paid family leave is set to take ef...       real   \n",
       "35543  @zascmo @SpindleyBobbins @ClintSmithIII State ...       real   \n",
       "15449  @MichaelNey19 @JonelleElgaway @CanadaPain @CMe...       real   \n",
       "59272  @Ventuckyspaz @caitoz Well they have a lot I c...       real   \n",
       "\n",
       "      predictions  \n",
       "22878        fake  \n",
       "66829        fake  \n",
       "29258        fake  \n",
       "2736         fake  \n",
       "66639        fake  \n",
       "...           ...  \n",
       "1519         fake  \n",
       "14999        fake  \n",
       "35543        fake  \n",
       "15449        fake  \n",
       "59272        fake  \n",
       "\n",
       "[345 rows x 3 columns]"
      ]
     },
     "execution_count": 116,
     "metadata": {},
     "output_type": "execute_result"
    }
   ],
   "source": [
    "test3[test3.completion!=test3.predictions]"
   ]
  },
  {
   "attachments": {},
   "cell_type": "markdown",
   "metadata": {},
   "source": [
    "## Truthseeker Dataset with own fine-tune model"
   ]
  },
  {
   "cell_type": "code",
   "execution_count": 117,
   "metadata": {},
   "outputs": [],
   "source": [
    "df3 = df2.sample(frac=0.005, random_state=1)"
   ]
  },
  {
   "cell_type": "code",
   "execution_count": 120,
   "metadata": {},
   "outputs": [
    {
     "data": {
      "text/html": [
       "<div>\n",
       "<style scoped>\n",
       "    .dataframe tbody tr th:only-of-type {\n",
       "        vertical-align: middle;\n",
       "    }\n",
       "\n",
       "    .dataframe tbody tr th {\n",
       "        vertical-align: top;\n",
       "    }\n",
       "\n",
       "    .dataframe thead th {\n",
       "        text-align: right;\n",
       "    }\n",
       "</style>\n",
       "<table border=\"1\" class=\"dataframe\">\n",
       "  <thead>\n",
       "    <tr style=\"text-align: right;\">\n",
       "      <th></th>\n",
       "      <th>completion</th>\n",
       "      <th>prompt</th>\n",
       "    </tr>\n",
       "  </thead>\n",
       "  <tbody>\n",
       "    <tr>\n",
       "      <th>12759</th>\n",
       "      <td>real</td>\n",
       "      <td>@MFOLParkland \"We think it's reasonable to pro...</td>\n",
       "    </tr>\n",
       "    <tr>\n",
       "      <th>105052</th>\n",
       "      <td>fake</td>\n",
       "      <td>@MollyJongFast The GOP just sent Tommy Tubervi...</td>\n",
       "    </tr>\n",
       "    <tr>\n",
       "      <th>91929</th>\n",
       "      <td>real</td>\n",
       "      <td>With the highest property taxes, seven percent...</td>\n",
       "    </tr>\n",
       "    <tr>\n",
       "      <th>38545</th>\n",
       "      <td>real</td>\n",
       "      <td>@Kalidog4 @Jimdotbeep @goodyweaver The term wa...</td>\n",
       "    </tr>\n",
       "    <tr>\n",
       "      <th>4494</th>\n",
       "      <td>real</td>\n",
       "      <td>@tj110_ the fbi director said white supremacis...</td>\n",
       "    </tr>\n",
       "  </tbody>\n",
       "</table>\n",
       "</div>"
      ],
      "text/plain": [
       "       completion                                             prompt\n",
       "12759        real  @MFOLParkland \"We think it's reasonable to pro...\n",
       "105052       fake  @MollyJongFast The GOP just sent Tommy Tubervi...\n",
       "91929        real  With the highest property taxes, seven percent...\n",
       "38545        real  @Kalidog4 @Jimdotbeep @goodyweaver The term wa...\n",
       "4494         real  @tj110_ the fbi director said white supremacis..."
      ]
     },
     "execution_count": 120,
     "metadata": {},
     "output_type": "execute_result"
    }
   ],
   "source": [
    "df3.head()"
   ]
  },
  {
   "cell_type": "code",
   "execution_count": 121,
   "metadata": {},
   "outputs": [
    {
     "data": {
      "text/plain": [
       "completion\n",
       "real    347\n",
       "fake    324\n",
       "dtype: int64"
      ]
     },
     "execution_count": 121,
     "metadata": {},
     "output_type": "execute_result"
    }
   ],
   "source": [
    "df3.value_counts('completion')"
   ]
  },
  {
   "cell_type": "code",
   "execution_count": 122,
   "metadata": {},
   "outputs": [],
   "source": [
    "df3.to_csv('labelled3.csv', index=False)"
   ]
  },
  {
   "cell_type": "code",
   "execution_count": null,
   "metadata": {},
   "outputs": [],
   "source": [
    "# DO IN TERMINAL - Yes for all\n",
    "! openai tools fine_tunes.prepare_data -f labelled3.csv"
   ]
  },
  {
   "cell_type": "code",
   "execution_count": 123,
   "metadata": {},
   "outputs": [
    {
     "name": "stdout",
     "output_type": "stream",
     "text": [
      "Upload progress: 100%|██████████████████████| 141k/141k [00:00<00:00, 48.9Mit/s]\n",
      "Uploaded file from labelled3_prepared_train.jsonl: file-3nuy8jA0iZRQYNgxLSFoT6J9\n",
      "Upload progress: 100%|████████████████████| 36.6k/36.6k [00:00<00:00, 17.8Mit/s]\n",
      "Uploaded file from labelled3_prepared_valid.jsonl: file-dvmEB6JqPqGs2PBYgw7pZL1Z\n",
      "Created fine-tune: ft-LtV4Q3SDPUDDzLDMgBrE3x1Q\n",
      "Streaming events until fine-tuning is complete...\n",
      "\n",
      "(Ctrl-C will interrupt the stream, but not cancel the fine-tune)\n",
      "[2023-06-23 11:23:55] Created fine-tune: ft-LtV4Q3SDPUDDzLDMgBrE3x1Q\n",
      "\n",
      "Stream interrupted (client disconnected).\n",
      "To resume the stream, run:\n",
      "\n",
      "  openai api fine_tunes.follow -i ft-LtV4Q3SDPUDDzLDMgBrE3x1Q\n",
      "\n"
     ]
    }
   ],
   "source": [
    "! openai api fine_tunes.create -t \"data/labelled3_prepared_train.jsonl\" -v \"data/labelled3_prepared_valid.jsonl\" --compute_classification_metrics --classification_positive_class \" fake\" -m ada"
   ]
  },
  {
   "cell_type": "code",
   "execution_count": 140,
   "metadata": {},
   "outputs": [
    {
     "name": "stdout",
     "output_type": "stream",
     "text": [
      "[2023-06-23 11:23:55] Created fine-tune: ft-LtV4Q3SDPUDDzLDMgBrE3x1Q\n",
      "[2023-06-23 11:31:10] Fine-tune costs $0.05\n",
      "[2023-06-23 11:31:11] Fine-tune enqueued. Queue number: 6\n",
      "[2023-06-23 11:31:22] Fine-tune is in the queue. Queue number: 5\n",
      "[2023-06-23 11:35:21] Fine-tune is in the queue. Queue number: 4\n",
      "[2023-06-23 11:35:55] Fine-tune is in the queue. Queue number: 3\n",
      "[2023-06-23 11:39:25] Fine-tune is in the queue. Queue number: 2\n",
      "[2023-06-23 11:41:01] Fine-tune is in the queue. Queue number: 1\n",
      "[2023-06-23 11:44:42] Fine-tune is in the queue. Queue number: 0\n",
      "[2023-06-23 11:44:45] Fine-tune started\n",
      "[2023-06-23 11:46:24] Completed epoch 1/4\n",
      "[2023-06-23 11:47:50] Completed epoch 2/4\n",
      "[2023-06-23 11:49:14] Completed epoch 3/4\n",
      "[2023-06-23 11:50:39] Completed epoch 4/4\n",
      "\n",
      "Job complete! Status: succeeded 🎉\n",
      "Try out your fine-tuned model:\n",
      "\n",
      "openai api completions.create -m ada:ft-personal-2023-06-23-09-51-04 -p <YOUR_PROMPT>\n"
     ]
    }
   ],
   "source": [
    "! openai api fine_tunes.follow -i ft-LtV4Q3SDPUDDzLDMgBrE3x1Q"
   ]
  },
  {
   "cell_type": "code",
   "execution_count": 141,
   "metadata": {},
   "outputs": [],
   "source": [
    "test4 = pd.read_json('data/labelled3_prepared_valid.jsonl', lines=True)\n"
   ]
  },
  {
   "cell_type": "code",
   "execution_count": 142,
   "metadata": {},
   "outputs": [
    {
     "data": {
      "text/html": [
       "<div>\n",
       "<style scoped>\n",
       "    .dataframe tbody tr th:only-of-type {\n",
       "        vertical-align: middle;\n",
       "    }\n",
       "\n",
       "    .dataframe tbody tr th {\n",
       "        vertical-align: top;\n",
       "    }\n",
       "\n",
       "    .dataframe thead th {\n",
       "        text-align: right;\n",
       "    }\n",
       "</style>\n",
       "<table border=\"1\" class=\"dataframe\">\n",
       "  <thead>\n",
       "    <tr style=\"text-align: right;\">\n",
       "      <th></th>\n",
       "      <th>prompt</th>\n",
       "      <th>completion</th>\n",
       "      <th>predictions</th>\n",
       "    </tr>\n",
       "  </thead>\n",
       "  <tbody>\n",
       "    <tr>\n",
       "      <th>0</th>\n",
       "      <td>@MollyJongFast The GOP just sent Tommy Tubervi...</td>\n",
       "      <td>fake</td>\n",
       "      <td>fake</td>\n",
       "    </tr>\n",
       "    <tr>\n",
       "      <th>1</th>\n",
       "      <td>@tj110_ the fbi director said white supremacis...</td>\n",
       "      <td>real</td>\n",
       "      <td>real</td>\n",
       "    </tr>\n",
       "    <tr>\n",
       "      <th>2</th>\n",
       "      <td>@goodblackdude @PZonLAKEontario \"No one will e...</td>\n",
       "      <td>fake</td>\n",
       "      <td>real</td>\n",
       "    </tr>\n",
       "    <tr>\n",
       "      <th>3</th>\n",
       "      <td>@bradleigh__ The more ppl start doing somethin...</td>\n",
       "      <td>real</td>\n",
       "      <td>real</td>\n",
       "    </tr>\n",
       "    <tr>\n",
       "      <th>4</th>\n",
       "      <td>@Aggie21Atx @GhostOfQC44 @mattywatty01 @rcb05 ...</td>\n",
       "      <td>real</td>\n",
       "      <td>real</td>\n",
       "    </tr>\n",
       "    <tr>\n",
       "      <th>...</th>\n",
       "      <td>...</td>\n",
       "      <td>...</td>\n",
       "      <td>...</td>\n",
       "    </tr>\n",
       "    <tr>\n",
       "      <th>130</th>\n",
       "      <td>@Farnsworth67 @TomiLahren The assault on wealt...</td>\n",
       "      <td>real</td>\n",
       "      <td>real</td>\n",
       "    </tr>\n",
       "    <tr>\n",
       "      <th>131</th>\n",
       "      <td>@Morgan11444396 @THR Another reason we need th...</td>\n",
       "      <td>real</td>\n",
       "      <td>real</td>\n",
       "    </tr>\n",
       "    <tr>\n",
       "      <th>132</th>\n",
       "      <td>@NYCPBA Politicians are the lowest form of lif...</td>\n",
       "      <td>fake</td>\n",
       "      <td>real</td>\n",
       "    </tr>\n",
       "    <tr>\n",
       "      <th>133</th>\n",
       "      <td>@JodiMcKayMP @GladysB Hahaha..gladbag Gladys i...</td>\n",
       "      <td>fake</td>\n",
       "      <td>fake</td>\n",
       "    </tr>\n",
       "    <tr>\n",
       "      <th>134</th>\n",
       "      <td>@bblock29 Desantis &amp;amp; Abbott should be arre...</td>\n",
       "      <td>fake</td>\n",
       "      <td>fake</td>\n",
       "    </tr>\n",
       "  </tbody>\n",
       "</table>\n",
       "<p>135 rows × 3 columns</p>\n",
       "</div>"
      ],
      "text/plain": [
       "                                                prompt completion predictions\n",
       "0    @MollyJongFast The GOP just sent Tommy Tubervi...       fake        fake\n",
       "1    @tj110_ the fbi director said white supremacis...       real        real\n",
       "2    @goodblackdude @PZonLAKEontario \"No one will e...       fake        real\n",
       "3    @bradleigh__ The more ppl start doing somethin...       real        real\n",
       "4    @Aggie21Atx @GhostOfQC44 @mattywatty01 @rcb05 ...       real        real\n",
       "..                                                 ...        ...         ...\n",
       "130  @Farnsworth67 @TomiLahren The assault on wealt...       real        real\n",
       "131  @Morgan11444396 @THR Another reason we need th...       real        real\n",
       "132  @NYCPBA Politicians are the lowest form of lif...       fake        real\n",
       "133  @JodiMcKayMP @GladysB Hahaha..gladbag Gladys i...       fake        fake\n",
       "134  @bblock29 Desantis &amp; Abbott should be arre...       fake        fake\n",
       "\n",
       "[135 rows x 3 columns]"
      ]
     },
     "execution_count": 142,
     "metadata": {},
     "output_type": "execute_result"
    }
   ],
   "source": [
    "ft_model = 'ada:ft-personal-2023-06-23-09-51-04'\n",
    "\n",
    "test4['predictions'] = test4['prompt'].apply(lambda x:detect(x))\n",
    " \n",
    "test4"
   ]
  },
  {
   "cell_type": "code",
   "execution_count": 143,
   "metadata": {},
   "outputs": [
    {
     "data": {
      "text/plain": [
       " real    72\n",
       " fake    63\n",
       "Name: predictions, dtype: int64"
      ]
     },
     "execution_count": 143,
     "metadata": {},
     "output_type": "execute_result"
    }
   ],
   "source": [
    "test4.predictions.value_counts()"
   ]
  },
  {
   "cell_type": "code",
   "execution_count": 144,
   "metadata": {},
   "outputs": [
    {
     "data": {
      "text/plain": [
       "0.8444444444444444"
      ]
     },
     "execution_count": 144,
     "metadata": {},
     "output_type": "execute_result"
    }
   ],
   "source": [
    "np.mean(test4.completion==test4.predictions)"
   ]
  },
  {
   "cell_type": "code",
   "execution_count": 158,
   "metadata": {},
   "outputs": [
    {
     "name": "stdout",
     "output_type": "stream",
     "text": [
      "Accuracy: 0.8444444444444444\n",
      "Precision: 0.8253968253968254\n",
      "Recall: 0.8387096774193549\n"
     ]
    }
   ],
   "source": [
    "accuracy = accuracy_score(test4.completion, test4.predictions)\n",
    "precision = precision_score(test4.completion, test4.predictions, pos_label=' fake')\n",
    "recall = recall_score(test4.completion, test4.predictions, pos_label=' fake')\n",
    "\n",
    "print(\"Accuracy:\", accuracy)\n",
    "print(\"Precision:\", precision)\n",
    "print(\"Recall:\", recall)"
   ]
  },
  {
   "cell_type": "code",
   "execution_count": 145,
   "metadata": {},
   "outputs": [
    {
     "data": {
      "text/html": [
       "<div>\n",
       "<style scoped>\n",
       "    .dataframe tbody tr th:only-of-type {\n",
       "        vertical-align: middle;\n",
       "    }\n",
       "\n",
       "    .dataframe tbody tr th {\n",
       "        vertical-align: top;\n",
       "    }\n",
       "\n",
       "    .dataframe thead th {\n",
       "        text-align: right;\n",
       "    }\n",
       "</style>\n",
       "<table border=\"1\" class=\"dataframe\">\n",
       "  <thead>\n",
       "    <tr style=\"text-align: right;\">\n",
       "      <th></th>\n",
       "      <th>prompt</th>\n",
       "      <th>completion</th>\n",
       "      <th>predictions</th>\n",
       "    </tr>\n",
       "  </thead>\n",
       "  <tbody>\n",
       "    <tr>\n",
       "      <th>2</th>\n",
       "      <td>@goodblackdude @PZonLAKEontario \"No one will e...</td>\n",
       "      <td>fake</td>\n",
       "      <td>real</td>\n",
       "    </tr>\n",
       "    <tr>\n",
       "      <th>5</th>\n",
       "      <td>@realDonaldTrump You ran on building the Wall,...</td>\n",
       "      <td>real</td>\n",
       "      <td>fake</td>\n",
       "    </tr>\n",
       "    <tr>\n",
       "      <th>6</th>\n",
       "      <td>#TedCruzCampaignSlogans\\nTed Cruz 2016: Becaus...</td>\n",
       "      <td>fake</td>\n",
       "      <td>real</td>\n",
       "    </tr>\n",
       "    <tr>\n",
       "      <th>10</th>\n",
       "      <td>Im bout dumb as shit thinking that the militar...</td>\n",
       "      <td>real</td>\n",
       "      <td>fake</td>\n",
       "    </tr>\n",
       "    <tr>\n",
       "      <th>16</th>\n",
       "      <td>@WydivaLong @bgiuliano22 @Whiskey100Proof You ...</td>\n",
       "      <td>fake</td>\n",
       "      <td>real</td>\n",
       "    </tr>\n",
       "    <tr>\n",
       "      <th>33</th>\n",
       "      <td>@arungovil12 @IRBMishra While India has been g...</td>\n",
       "      <td>real</td>\n",
       "      <td>fake</td>\n",
       "    </tr>\n",
       "    <tr>\n",
       "      <th>35</th>\n",
       "      <td>@Bluerai48855500 @N0__S0ul Democrats thought t...</td>\n",
       "      <td>real</td>\n",
       "      <td>fake</td>\n",
       "    </tr>\n",
       "    <tr>\n",
       "      <th>36</th>\n",
       "      <td>A large caravan of trump supporters have been ...</td>\n",
       "      <td>real</td>\n",
       "      <td>fake</td>\n",
       "    </tr>\n",
       "    <tr>\n",
       "      <th>55</th>\n",
       "      <td>@Mikeago @ProudPTDeeDee @FaceTheNation @tedcru...</td>\n",
       "      <td>fake</td>\n",
       "      <td>real</td>\n",
       "    </tr>\n",
       "    <tr>\n",
       "      <th>58</th>\n",
       "      <td>@acad_editor @prateekrsn The really poor don't...</td>\n",
       "      <td>real</td>\n",
       "      <td>fake</td>\n",
       "    </tr>\n",
       "    <tr>\n",
       "      <th>64</th>\n",
       "      <td>@smerconish @BernieSanders @SIRIUSXM @SXMPOTUS...</td>\n",
       "      <td>fake</td>\n",
       "      <td>real</td>\n",
       "    </tr>\n",
       "    <tr>\n",
       "      <th>67</th>\n",
       "      <td>@USlawreview Alert  The Pentagon surrenders No...</td>\n",
       "      <td>fake</td>\n",
       "      <td>real</td>\n",
       "    </tr>\n",
       "    <tr>\n",
       "      <th>71</th>\n",
       "      <td>@jennineak Sarkozy's plan to ban pork free mea...</td>\n",
       "      <td>fake</td>\n",
       "      <td>real</td>\n",
       "    </tr>\n",
       "    <tr>\n",
       "      <th>78</th>\n",
       "      <td>@Lizzie_Chantree @BenTrebilcook @KindredHandma...</td>\n",
       "      <td>real</td>\n",
       "      <td>fake</td>\n",
       "    </tr>\n",
       "    <tr>\n",
       "      <th>79</th>\n",
       "      <td>Many doctors are prescribing convalescent plas...</td>\n",
       "      <td>real</td>\n",
       "      <td>fake</td>\n",
       "    </tr>\n",
       "    <tr>\n",
       "      <th>89</th>\n",
       "      <td>@kg011291 @FoxNews @kathygriffin \"Politicians ...</td>\n",
       "      <td>fake</td>\n",
       "      <td>real</td>\n",
       "    </tr>\n",
       "    <tr>\n",
       "      <th>95</th>\n",
       "      <td>Sen. Thom Tillis says restaurant workers shoul...</td>\n",
       "      <td>fake</td>\n",
       "      <td>real</td>\n",
       "    </tr>\n",
       "    <tr>\n",
       "      <th>100</th>\n",
       "      <td>@keith_pochick Gloves would only be worn in pu...</td>\n",
       "      <td>real</td>\n",
       "      <td>fake</td>\n",
       "    </tr>\n",
       "    <tr>\n",
       "      <th>109</th>\n",
       "      <td>If u can impeach a president who left office t...</td>\n",
       "      <td>real</td>\n",
       "      <td>fake</td>\n",
       "    </tr>\n",
       "    <tr>\n",
       "      <th>116</th>\n",
       "      <td>@PaisanoCowboy1 BS troll. Go do some research ...</td>\n",
       "      <td>real</td>\n",
       "      <td>fake</td>\n",
       "    </tr>\n",
       "    <tr>\n",
       "      <th>132</th>\n",
       "      <td>@NYCPBA Politicians are the lowest form of lif...</td>\n",
       "      <td>fake</td>\n",
       "      <td>real</td>\n",
       "    </tr>\n",
       "  </tbody>\n",
       "</table>\n",
       "</div>"
      ],
      "text/plain": [
       "                                                prompt completion predictions\n",
       "2    @goodblackdude @PZonLAKEontario \"No one will e...       fake        real\n",
       "5    @realDonaldTrump You ran on building the Wall,...       real        fake\n",
       "6    #TedCruzCampaignSlogans\\nTed Cruz 2016: Becaus...       fake        real\n",
       "10   Im bout dumb as shit thinking that the militar...       real        fake\n",
       "16   @WydivaLong @bgiuliano22 @Whiskey100Proof You ...       fake        real\n",
       "33   @arungovil12 @IRBMishra While India has been g...       real        fake\n",
       "35   @Bluerai48855500 @N0__S0ul Democrats thought t...       real        fake\n",
       "36   A large caravan of trump supporters have been ...       real        fake\n",
       "55   @Mikeago @ProudPTDeeDee @FaceTheNation @tedcru...       fake        real\n",
       "58   @acad_editor @prateekrsn The really poor don't...       real        fake\n",
       "64   @smerconish @BernieSanders @SIRIUSXM @SXMPOTUS...       fake        real\n",
       "67   @USlawreview Alert  The Pentagon surrenders No...       fake        real\n",
       "71   @jennineak Sarkozy's plan to ban pork free mea...       fake        real\n",
       "78   @Lizzie_Chantree @BenTrebilcook @KindredHandma...       real        fake\n",
       "79   Many doctors are prescribing convalescent plas...       real        fake\n",
       "89   @kg011291 @FoxNews @kathygriffin \"Politicians ...       fake        real\n",
       "95   Sen. Thom Tillis says restaurant workers shoul...       fake        real\n",
       "100  @keith_pochick Gloves would only be worn in pu...       real        fake\n",
       "109  If u can impeach a president who left office t...       real        fake\n",
       "116  @PaisanoCowboy1 BS troll. Go do some research ...       real        fake\n",
       "132  @NYCPBA Politicians are the lowest form of lif...       fake        real"
      ]
     },
     "execution_count": 145,
     "metadata": {},
     "output_type": "execute_result"
    }
   ],
   "source": [
    "test4[test4.completion!=test4.predictions]"
   ]
  },
  {
   "attachments": {},
   "cell_type": "markdown",
   "metadata": {},
   "source": [
    "## Infodemic Dataset with model trained on Truthseeker dataset"
   ]
  },
  {
   "cell_type": "code",
   "execution_count": 148,
   "metadata": {},
   "outputs": [
    {
     "data": {
      "text/html": [
       "<div>\n",
       "<style scoped>\n",
       "    .dataframe tbody tr th:only-of-type {\n",
       "        vertical-align: middle;\n",
       "    }\n",
       "\n",
       "    .dataframe tbody tr th {\n",
       "        vertical-align: top;\n",
       "    }\n",
       "\n",
       "    .dataframe thead th {\n",
       "        text-align: right;\n",
       "    }\n",
       "</style>\n",
       "<table border=\"1\" class=\"dataframe\">\n",
       "  <thead>\n",
       "    <tr style=\"text-align: right;\">\n",
       "      <th></th>\n",
       "      <th>prompt</th>\n",
       "      <th>completion</th>\n",
       "      <th>predictions</th>\n",
       "    </tr>\n",
       "  </thead>\n",
       "  <tbody>\n",
       "    <tr>\n",
       "      <th>0</th>\n",
       "      <td>Alfalfa is the only cure for COVID-19.\\n\\n###\\n\\n</td>\n",
       "      <td>fake</td>\n",
       "      <td>fake</td>\n",
       "    </tr>\n",
       "    <tr>\n",
       "      <th>1</th>\n",
       "      <td>Our daily update is published. We’ve now track...</td>\n",
       "      <td>real</td>\n",
       "      <td>fake</td>\n",
       "    </tr>\n",
       "    <tr>\n",
       "      <th>2</th>\n",
       "      <td>Households should have \"required\" medical kits...</td>\n",
       "      <td>fake</td>\n",
       "      <td>fake</td>\n",
       "    </tr>\n",
       "    <tr>\n",
       "      <th>3</th>\n",
       "      <td>An image of a man carrying his old mother on h...</td>\n",
       "      <td>fake</td>\n",
       "      <td>fake</td>\n",
       "    </tr>\n",
       "    <tr>\n",
       "      <th>4</th>\n",
       "      <td>3/10 About 8% of population \"may be infected a...</td>\n",
       "      <td>real</td>\n",
       "      <td>fake</td>\n",
       "    </tr>\n",
       "    <tr>\n",
       "      <th>...</th>\n",
       "      <td>...</td>\n",
       "      <td>...</td>\n",
       "      <td>...</td>\n",
       "    </tr>\n",
       "    <tr>\n",
       "      <th>423</th>\n",
       "      <td>Total deaths reached 16399. States reported 19...</td>\n",
       "      <td>real</td>\n",
       "      <td>fake</td>\n",
       "    </tr>\n",
       "    <tr>\n",
       "      <th>424</th>\n",
       "      <td>???China is to blame because the culture where...</td>\n",
       "      <td>fake</td>\n",
       "      <td>fake</td>\n",
       "    </tr>\n",
       "    <tr>\n",
       "      <th>425</th>\n",
       "      <td>Banana contains a lectin that is a powerful an...</td>\n",
       "      <td>fake</td>\n",
       "      <td>fake</td>\n",
       "    </tr>\n",
       "    <tr>\n",
       "      <th>426</th>\n",
       "      <td>Asymptomatic coronavirus spread is rare @WHO s...</td>\n",
       "      <td>real</td>\n",
       "      <td>fake</td>\n",
       "    </tr>\n",
       "    <tr>\n",
       "      <th>427</th>\n",
       "      <td>*Note: Lagos State recorded 25 deaths between ...</td>\n",
       "      <td>real</td>\n",
       "      <td>real</td>\n",
       "    </tr>\n",
       "  </tbody>\n",
       "</table>\n",
       "<p>428 rows × 3 columns</p>\n",
       "</div>"
      ],
      "text/plain": [
       "                                                prompt completion predictions\n",
       "0    Alfalfa is the only cure for COVID-19.\\n\\n###\\n\\n       fake        fake\n",
       "1    Our daily update is published. We’ve now track...       real        fake\n",
       "2    Households should have \"required\" medical kits...       fake        fake\n",
       "3    An image of a man carrying his old mother on h...       fake        fake\n",
       "4    3/10 About 8% of population \"may be infected a...       real        fake\n",
       "..                                                 ...        ...         ...\n",
       "423  Total deaths reached 16399. States reported 19...       real        fake\n",
       "424  ???China is to blame because the culture where...       fake        fake\n",
       "425  Banana contains a lectin that is a powerful an...       fake        fake\n",
       "426  Asymptomatic coronavirus spread is rare @WHO s...       real        fake\n",
       "427  *Note: Lagos State recorded 25 deaths between ...       real        real\n",
       "\n",
       "[428 rows x 3 columns]"
      ]
     },
     "execution_count": 148,
     "metadata": {},
     "output_type": "execute_result"
    }
   ],
   "source": [
    "# get predictions for the test dataset defined earlier (our ft model was saved above)\n",
    "test['predictions1'] = test['prompt'].apply(lambda x:detect(x))\n",
    " \n",
    "test"
   ]
  },
  {
   "cell_type": "code",
   "execution_count": 149,
   "metadata": {},
   "outputs": [
    {
     "data": {
      "text/plain": [
       " fake    354\n",
       " real     74\n",
       "Name: predictions, dtype: int64"
      ]
     },
     "execution_count": 149,
     "metadata": {},
     "output_type": "execute_result"
    }
   ],
   "source": [
    "test.predictions1.value_counts()"
   ]
  },
  {
   "cell_type": "code",
   "execution_count": 150,
   "metadata": {},
   "outputs": [
    {
     "data": {
      "text/plain": [
       "0.514018691588785"
      ]
     },
     "execution_count": 150,
     "metadata": {},
     "output_type": "execute_result"
    }
   ],
   "source": [
    "np.mean(test.completion==test.predictions1)"
   ]
  },
  {
   "cell_type": "code",
   "execution_count": 157,
   "metadata": {},
   "outputs": [
    {
     "name": "stdout",
     "output_type": "stream",
     "text": [
      "Accuracy: 0.514018691588785\n",
      "Precision: 0.5028248587570622\n",
      "Recall: 0.8476190476190476\n"
     ]
    }
   ],
   "source": [
    "accuracy = accuracy_score(test.completion, test.predictions1)\n",
    "precision = precision_score(test.completion, test.predictions1, pos_label=' fake')\n",
    "recall = recall_score(test.completion, test.predictions1, pos_label=' fake')\n",
    "\n",
    "print(\"Accuracy:\", accuracy)\n",
    "print(\"Precision:\", precision)\n",
    "print(\"Recall:\", recall)"
   ]
  }
 ],
 "metadata": {
  "kernelspec": {
   "display_name": "base",
   "language": "python",
   "name": "python3"
  },
  "language_info": {
   "codemirror_mode": {
    "name": "ipython",
    "version": 3
   },
   "file_extension": ".py",
   "mimetype": "text/x-python",
   "name": "python",
   "nbconvert_exporter": "python",
   "pygments_lexer": "ipython3",
   "version": "3.8.8"
  },
  "orig_nbformat": 4
 },
 "nbformat": 4,
 "nbformat_minor": 2
}
